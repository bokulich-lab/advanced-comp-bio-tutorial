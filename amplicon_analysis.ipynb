{
 "cells": [
  {
   "cell_type": "markdown",
   "metadata": {
    "pycharm": {
     "name": "#%% md\n"
    }
   },
   "source": [
    "# Amplicon sequencing use case\n",
    "with 3 infant gut development studies, namely:\n",
    "\n",
    "| Bioproject ID | Publication DOI | Publication Title |\n",
    "| :----------- | :----------- | :----------- |\n",
    "| PRJEB16321 | 10.1038/srep40932 | The Fecal Microbial Community of Breast-fed Infants from Armenia and Georgia |\n",
    "| PRJEB15633 | 10.1038/srep40466 | Growth and Morbidity of Gambian Infants are Influenced by Maternal Milk Oligosaccharides and Infant Gut Microbiota |\n",
    "| PRJEB23239 | 10.1093/ajcn/nqy249  | Anemia in infancy is associated with alterations in systemic metabolism and microbial structure and function in a sex-specific manner: an observational study |\n",
    "\n",
    "All 3 studies sequenced 16S rRNA Genes in V4 region (see values in `df_meta` columns `'Target Gene [experiment]'` & `'Target Subfragment [experiment]'`). "
   ]
  },
  {
   "cell_type": "markdown",
   "metadata": {},
   "source": [
    "## Environment setup"
   ]
  },
  {
   "cell_type": "code",
   "execution_count": null,
   "metadata": {
    "pycharm": {
     "name": "#%%\n"
    }
   },
   "outputs": [],
   "source": [
    "!git clone https://github.com/bokulich-lab/sysbio_course_2022.git course_data"
   ]
  },
  {
   "cell_type": "code",
   "execution_count": null,
   "metadata": {
    "pycharm": {
     "name": "#%%\n"
    }
   },
   "outputs": [],
   "source": [
    "%cd course_data"
   ]
  },
  {
   "cell_type": "code",
   "execution_count": null,
   "metadata": {
    "pycharm": {
     "name": "#%%\n"
    }
   },
   "outputs": [],
   "source": [
    "%run setup_qiime2"
   ]
  },
  {
   "cell_type": "code",
   "execution_count": null,
   "metadata": {
    "pycharm": {
     "name": "#%%\n"
    }
   },
   "outputs": [],
   "source": [
    "# import required packages\n",
    "import os\n",
    "import biom\n",
    "import pandas as pd\n",
    "import numpy as np\n",
    "import qiime2 as q2\n",
    "import seaborn as sns\n",
    "import matplotlib as mpl\n",
    "import matplotlib.pyplot as plt\n",
    "\n",
    "from qiime2.plugins import (fondue,\n",
    "                            coordinates,\n",
    "                            demux, dada2,\n",
    "                            diversity,\n",
    "                            sample_classifier as sc,\n",
    "                            feature_table as ft)\n",
    "from q2_sample_classifier.visuals import _generate_roc_plots\n",
    "\n",
    "mpl.rcParams['figure.dpi'] = 300\n",
    "\n",
    "%load_ext autoreload\n",
    "%autoreload 2\n",
    "%matplotlib inline\n"
   ]
  },
  {
   "cell_type": "code",
   "execution_count": null,
   "metadata": {
    "pycharm": {
     "name": "#%%\n"
    }
   },
   "outputs": [],
   "source": [
    "# USER-DEFINED variables\n",
    "\n",
    "# where to store results of amplicon usecase data\n",
    "results_path = \"u1-amplicon-results\"\n",
    "# your email\n",
    "email = \"my@mail.com\"\n",
    "# number of jobs for running q2fondue's get-all\n",
    "n_jobs = 8\n"
   ]
  },
  {
   "cell_type": "code",
   "execution_count": null,
   "metadata": {
    "pycharm": {
     "name": "#%%\n"
    }
   },
   "outputs": [],
   "source": [
    "def def_age_group(x):\n",
    "    \"\"\"\n",
    "    Categorize numeric age in `x` into groups of defined \n",
    "    age month ranges.\n",
    "    \"\"\"\n",
    "    if x < 1:\n",
    "        age_group = '0-1 mo'\n",
    "    elif x <= 4:\n",
    "        age_group = '1-4 mo'\n",
    "    elif x <= 6:\n",
    "        age_group = '4-6 mo'\n",
    "    else:\n",
    "        age_group = '6+ mo'\n",
    "    return age_group\n"
   ]
  },
  {
   "cell_type": "code",
   "execution_count": null,
   "metadata": {
    "pycharm": {
     "name": "#%%\n"
    }
   },
   "outputs": [],
   "source": [
    "# create missing folders\n",
    "if not os.path.exists(results_path):\n",
    "    os.makedirs(results_path)\n",
    "\n",
    "# define paths derived from results_path\n",
    "meta_path = os.path.join(results_path, \"metadata.qza\")\n",
    "seq_path = os.path.join(results_path, \"single_reads.qza\")\n"
   ]
  },
  {
   "cell_type": "markdown",
   "metadata": {
    "pycharm": {
     "name": "#%% md\n"
    }
   },
   "source": [
    "## Get metadata and sequences"
   ]
  },
  {
   "cell_type": "markdown",
   "metadata": {
    "pycharm": {
     "name": "#%% md\n"
    }
   },
   "source": [
    "First we will get all the metadata and sequence data of the studies:"
   ]
  },
  {
   "cell_type": "code",
   "execution_count": null,
   "metadata": {
    "pycharm": {
     "name": "#%%\n"
    }
   },
   "outputs": [],
   "source": [
    "# define accession IDs to get:\n",
    "ls_ids = ['PRJEB16321', 'PRJEB15633', 'PRJEB23239']\n",
    "ser_ids = pd.DataFrame({'id': ls_ids}).squeeze()\n",
    "artifact_ids = q2.Artifact.import_data('NCBIAccessionIDs', ser_ids)\n",
    "\n",
    "# ! first time get_all takes approx. 30 min to complete (with n_jobs = 7)\n",
    "if not os.path.isfile(meta_path) and not os.path.isfile(seq_path):\n",
    "    # fetch metadata and sequences\n",
    "    meta_md, single_reads, _, failed_ids, = fondue.actions.get_all(\n",
    "        accession_ids=artifact_ids,\n",
    "        email=email,\n",
    "        n_jobs=n_jobs,\n",
    "        log_level=\"WARNING\"\n",
    "    )\n",
    "\n",
    "    # refetch once if needed\n",
    "    if failed_ids.view(pd.DataFrame).shape[0] > 0:\n",
    "        print('Refetching failed ids')\n",
    "        meta_md_r1, single_reads_r1, _, failed_ids_r1, = fondue.actions.get_all(\n",
    "            accession_ids=failed_ids,\n",
    "            email=email,\n",
    "            n_jobs=n_jobs,\n",
    "            log_level=\"WARNING\"\n",
    "        )\n",
    "        # merge outputs\n",
    "        meta_md = meta_md.merge_metadata(meta_md_r1)\n",
    "        single_reads = single_reads.combine_seqs(single_reads_r1)\n",
    "\n",
    "    # save for future reuse\n",
    "    meta_md.save(meta_path)\n",
    "    single_reads.save(seq_path)\n",
    "else:\n",
    "    meta_md = q2.Artifact.load(meta_path)\n",
    "    single_reads = q2.Artifact.load(seq_path)\n",
    "\n",
    "# transform meta_md to df\n",
    "df_meta = meta_md.view(pd.DataFrame)\n",
    "del meta_md\n"
   ]
  },
  {
   "cell_type": "markdown",
   "metadata": {
    "pycharm": {
     "name": "#%% md\n"
    }
   },
   "source": [
    "## Process sequences\n",
    "\n",
    "Let's process the fetched sequences with a standard QIIME 2 workflow for analyzing amplicon sequence data (for more information on it see [here](https://docs.qiime2.org)), including filtering samples with [q2-demux](https://github.com/qiime2/q2-demux), denoising single-reads with [d2-dada2](https://github.com/qiime2/q2-dada2) and filtering and rarefying features with [q2-feature-table](https://github.com/qiime2/q2-feature-table)."
   ]
  },
  {
   "cell_type": "code",
   "execution_count": null,
   "metadata": {
    "pycharm": {
     "name": "#%%\n"
    }
   },
   "outputs": [],
   "source": [
    "path2final_ft_table = os.path.join(results_path, 'feature_table.qza')\n",
    "\n",
    "if not os.path.isfile(path2final_ft_table):\n",
    "    # ! first time processing takes approx. 40 min to complete\n",
    "    # filter seq samples by available metadata\n",
    "    filt_reads, = demux.actions.filter_samples(\n",
    "        demux=single_reads,\n",
    "        metadata=q2.Metadata(df_meta)\n",
    "    )\n",
    "\n",
    "    # # summary of filtered sequences\n",
    "    # filt_reads_sum, = demux.actions.summarize(data=filt_reads)\n",
    "\n",
    "    # denoise sequences w/o trimming because of high quality values\n",
    "    ft_table_raw, rep_seq, denoise_stats, = dada2.actions.denoise_single(\n",
    "        demultiplexed_seqs=filt_reads,\n",
    "        trunc_len=0\n",
    "    )\n",
    "\n",
    "    # filter table by min. frequency\n",
    "    ft_table, = ft.actions.filter_features(\n",
    "        table=ft_table_raw,\n",
    "        min_frequency=10\n",
    "    )\n",
    "\n",
    "    # rarefy with alpha rarefaction\n",
    "    # # to find appropriate sampling_depth:\n",
    "    # alpha_raref, = diversity.actions.alpha_rarefaction(\n",
    "    #     table=ft_table,\n",
    "    #     max_depth=10000,\n",
    "    #     metadata=q2.Metadata(df_meta)\n",
    "    # )\n",
    "    final_ft_table, = ft.actions.rarefy(\n",
    "        table=ft_table,\n",
    "        sampling_depth=1100\n",
    "    )\n",
    "    # save created table\n",
    "    final_ft_table.save(path2final_ft_table)\n",
    "\n",
    "else:\n",
    "    final_ft_table = q2.Artifact.load(path2final_ft_table)\n",
    "\n",
    "\n",
    "# view created feature table\n",
    "ft_summary, = ft.actions.summarize(\n",
    "    final_ft_table,\n",
    "    q2.Metadata(df_meta))\n",
    "\n",
    "ft_summary\n"
   ]
  },
  {
   "cell_type": "markdown",
   "metadata": {
    "pycharm": {
     "name": "#%% md\n"
    }
   },
   "source": [
    "## Process & visualize metadata"
   ]
  },
  {
   "cell_type": "markdown",
   "metadata": {
    "pycharm": {
     "name": "#%% md\n"
    }
   },
   "source": [
    "Let's first only select the samples in the metadata table that are still part of our sequence feature table: "
   ]
  },
  {
   "cell_type": "code",
   "execution_count": null,
   "metadata": {
    "pycharm": {
     "name": "#%%\n"
    }
   },
   "outputs": [],
   "source": [
    "ls_sample_ids = final_ft_table.view(biom.Table).ids().tolist()\n",
    "df_meta = df_meta[df_meta.index.isin(ls_sample_ids)].copy(deep=True)\n",
    "df_meta.shape\n"
   ]
  },
  {
   "cell_type": "code",
   "execution_count": null,
   "metadata": {
    "pycharm": {
     "name": "#%%\n"
    }
   },
   "outputs": [],
   "source": [
    "# creating a custom study tag for each selected study:\n",
    "dic_tag = {\"PRJEB16321\": \"Lewis17_Georgia\",\n",
    "           \"PRJEB15633\": \"Davis17_Gambia\",\n",
    "           \"PRJEB23239\": \"McClorry18_Peru\"}\n",
    "df_meta[\"Study\"] = np.nan\n",
    "\n",
    "for key, value in dic_tag.items():\n",
    "    bool_in_study = (df_meta[\"Bioproject ID\"] == key)\n",
    "    df_meta.loc[bool_in_study, \"Study\"] = value\n",
    "\n",
    "df_meta[\"Study\"].value_counts()\n"
   ]
  },
  {
   "cell_type": "markdown",
   "metadata": {
    "pycharm": {
     "name": "#%% md\n"
    }
   },
   "source": [
    "Let's define some custom columns (`AGE_month_group` & `HEALTHY`) and visualize the available metadata:"
   ]
  },
  {
   "cell_type": "markdown",
   "metadata": {
    "pycharm": {
     "name": "#%% md\n"
    }
   },
   "source": [
    "### Define classification target: `AGE_month_group`"
   ]
  },
  {
   "cell_type": "markdown",
   "metadata": {
    "pycharm": {
     "name": "#%% md\n"
    }
   },
   "source": [
    "Bioprojects `PRJEB16321` & `PRJEB15633` saved their age information in column `Week [sample]`. Bioproject `PRJEB23239` saved its infants' age information in metadata column `Age [sample]` in months. We choose to standardize all these age metrics into one common `AGE_month` column and a binned age group in `AGE_month_group`."
   ]
  },
  {
   "cell_type": "code",
   "execution_count": null,
   "metadata": {
    "pycharm": {
     "name": "#%%\n"
    }
   },
   "outputs": [],
   "source": [
    "# conversion from week to month by diving with factor 4.345\n",
    "# (source for factor estimate:\n",
    "# https://www.cuemath.com/questions/what-is-the-average-number-of-weeks-in-a-month/)\n",
    "df_meta[\"AGE_month\"] = df_meta[\"Week [sample]\"].astype(float)/4.345\n",
    "\n",
    "bool_spec_project = (df_meta[\"Bioproject ID\"] == \"PRJEB23239\")\n",
    "df_meta.loc[bool_spec_project,\n",
    "            \"AGE_month\"] = df_meta.loc[bool_spec_project,\n",
    "                                       \"Age [sample]\"].astype(float)\n",
    "\n",
    "# categorize age in binned age group\n",
    "df_meta['AGE_month_group'] = df_meta['AGE_month'].apply(def_age_group)\n",
    "df_meta['AGE_month_group'].value_counts()\n"
   ]
  },
  {
   "cell_type": "markdown",
   "metadata": {
    "pycharm": {
     "name": "#%% md\n"
    }
   },
   "source": [
    "Some descriptive insights into age distribution per study:"
   ]
  },
  {
   "cell_type": "code",
   "execution_count": null,
   "metadata": {
    "pycharm": {
     "name": "#%%\n"
    }
   },
   "outputs": [],
   "source": [
    "# plot continuous age distribution per Bioproject ID (Supp. Figure)\n",
    "fig, ax = plt.subplots(figsize=(7, 5), tight_layout=True)\n",
    "sns.set(rc={\"font.family\": [\"Arial\"]}, style=\"white\", font_scale=1.2)\n",
    "sns.violinplot(ax=ax,\n",
    "               data=df_meta,\n",
    "               x=\"Study\",\n",
    "               y=\"AGE_month\")\n",
    "ax.set_xlabel(\"Study\")\n",
    "ax.set_ylabel(\"Age [months]\")\n",
    "\n",
    "fig.savefig(os.path.join(results_path, \"draft_sfig_u1_age.eps\"),\n",
    "            bbox_inches='tight',\n",
    "            dpi=300, format='eps')\n"
   ]
  },
  {
   "cell_type": "code",
   "execution_count": null,
   "metadata": {
    "pycharm": {
     "name": "#%%\n"
    }
   },
   "outputs": [],
   "source": [
    "# plot binned age groups per Bioproject ID\n",
    "fig, ax = plt.subplots(figsize=(7, 5), tight_layout=True)\n",
    "sns.set(rc={\"font.family\": [\"Arial\"]}, style=\"white\", font_scale=1.2)\n",
    "sns.histplot(ax=ax,\n",
    "             data=df_meta,\n",
    "             x=\"AGE_month_group\",\n",
    "             hue=\"Study\")\n",
    "ax.set_xlabel(\"Age group\")\n",
    "\n",
    "fig.savefig(os.path.join(results_path, \"draft_fig_u1A.eps\"),\n",
    "            bbox_inches='tight',\n",
    "            dpi=300)\n"
   ]
  },
  {
   "cell_type": "markdown",
   "metadata": {
    "pycharm": {
     "name": "#%% md\n"
    }
   },
   "source": [
    "> The 3 studies focused on different age ranges of infants."
   ]
  },
  {
   "cell_type": "markdown",
   "metadata": {
    "pycharm": {
     "name": "#%% md\n"
    }
   },
   "source": [
    "### Define classification target: `HEALTHY`"
   ]
  },
  {
   "cell_type": "markdown",
   "metadata": {
    "pycharm": {
     "name": "#%% md\n"
    }
   },
   "source": [
    "We are flagging infants as healthy or not based on the available metadata of all 3 studies."
   ]
  },
  {
   "cell_type": "code",
   "execution_count": null,
   "metadata": {
    "pycharm": {
     "name": "#%%\n"
    }
   },
   "outputs": [],
   "source": [
    "# flagging healthy infants\n",
    "\n",
    "bool_healthy = ((df_meta[\"Anemia [sample]\"] != \"anemic\") &\n",
    "                (~df_meta[\"Baby Status [sample]\"].isin([\"Borderline\", \"Abnormal\"])) &\n",
    "                (df_meta[\"Crp Status [sample]\"] != \"elevated\") &\n",
    "                ((df_meta[\"Parasites [sample]\"] == \"N\") | (df_meta[\"Parasites [sample]\"].isnull())) &\n",
    "                (df_meta[\"Sick V Not Sick [sample]\"] != \"Sick\") &\n",
    "                (df_meta[\"Stunting [sample]\"] != \"Stunted\") &\n",
    "                (df_meta[\"Underweight [sample]\"] != \"Underweight\") &\n",
    "                (df_meta[\"Wasting [sample]\"] != \"Wasted\")\n",
    "                )\n",
    "df_meta[\"HEALTHY\"] = 0\n",
    "df_meta.loc[bool_healthy, \"HEALTHY\"] = 1\n",
    "df_meta[\"HEALTHY\"].value_counts(dropna=False)\n"
   ]
  },
  {
   "cell_type": "markdown",
   "metadata": {
    "pycharm": {
     "name": "#%% md\n"
    }
   },
   "source": [
    "Descriptive insight into fraction of healthy infants per Bioproject ID and its location:"
   ]
  },
  {
   "cell_type": "code",
   "execution_count": null,
   "metadata": {
    "pycharm": {
     "name": "#%%\n"
    }
   },
   "outputs": [],
   "source": [
    "# switch off inline mode to correctly display QIIME 2 visualizations\n",
    "%matplotlib auto\n"
   ]
  },
  {
   "cell_type": "code",
   "execution_count": null,
   "metadata": {
    "pycharm": {
     "name": "#%%\n"
    },
    "scrolled": true
   },
   "outputs": [],
   "source": [
    "# define healthy infant fraction per geolocation\n",
    "df_meta[\"frac_HEALTHY\"] = np.nan\n",
    "\n",
    "for geo_loc in df_meta[\"Geo loc name [sample]\"].unique():\n",
    "    bool_geo_loc = (df_meta[\"Geo loc name [sample]\"] == geo_loc)\n",
    "    frac_healthy = df_meta.loc[bool_geo_loc, \"HEALTHY\"].mean()\n",
    "    df_meta.loc[bool_geo_loc, \"frac_HEALTHY\"] = frac_healthy\n",
    "\n",
    "assert(df_meta[\"frac_HEALTHY\"].value_counts().values.all() ==\n",
    "       df_meta[\"Geo loc name [sample]\"].value_counts().values.all())\n",
    "\n",
    "# plot map of healthy infant fraction per geolocation\n",
    "ls_geo_cols = ['Latitude [sample]', 'Longitude [sample]', 'Elevation [sample]']\n",
    "for col in ls_geo_cols:\n",
    "    df_meta[col] = df_meta[col].astype(float)\n",
    "\n",
    "# draw a map\n",
    "map_frac_healthy, = coordinates.visualizers.draw_interactive_map(\n",
    "    metadata=q2.Metadata(df_meta[ls_geo_cols + ['frac_HEALTHY']]),\n",
    "    latitude='Latitude [sample]',\n",
    "    longitude='Longitude [sample]',\n",
    "    column='frac_HEALTHY',\n",
    "    missing_data='ignore'\n",
    ")\n",
    "path2map = os.path.join(results_path, f'draft_fig_u1B_map')\n",
    "map_frac_healthy.save(path2map)\n",
    "map_frac_healthy\n"
   ]
  },
  {
   "cell_type": "markdown",
   "metadata": {
    "pycharm": {
     "name": "#%% md\n"
    }
   },
   "source": [
    "> The 3 geographically differently located studies differ in their fractions of healthy to unhealthy infants."
   ]
  },
  {
   "cell_type": "code",
   "execution_count": null,
   "metadata": {
    "pycharm": {
     "name": "#%%\n"
    }
   },
   "outputs": [],
   "source": [
    "# adjust type of HEALTHY column from boolean to string (for Q2 compatibility below)\n",
    "df_meta['HEALTHY'] = df_meta['HEALTHY'].astype(str)\n"
   ]
  },
  {
   "cell_type": "markdown",
   "metadata": {
    "pycharm": {
     "name": "#%% md\n"
    }
   },
   "source": [
    "## Train ML classifiers"
   ]
  },
  {
   "cell_type": "markdown",
   "metadata": {
    "pycharm": {
     "name": "#%% md\n"
    }
   },
   "source": [
    "Now we will train a RandomForest classifier with [q2-sample-classifier](https://github.com/qiime2/q2-sample-classifier) to predict infant's age and another one to predict if an infant is healthy or not given its microbiome.\n",
    "\n",
    "! Beware, AUC values can deviate slightly (`+- 0.01`) when rerunning the above-mentioned denoising and rarefaction steps that include some randomness which can't be set with a defined seed yet.  "
   ]
  },
  {
   "cell_type": "code",
   "execution_count": null,
   "metadata": {
    "pycharm": {
     "name": "#%%\n"
    }
   },
   "outputs": [],
   "source": [
    "# display matplotlib inline again\n",
    "%matplotlib inline\n"
   ]
  },
  {
   "cell_type": "code",
   "execution_count": null,
   "metadata": {
    "pycharm": {
     "name": "#%%\n"
    }
   },
   "outputs": [],
   "source": [
    "seed = 12\n",
    "dic_file_flag = {\"AGE_month_group\": \"C\",\n",
    "                 \"HEALTHY\": \"D\"}\n",
    "for target in ['AGE_month_group', 'HEALTHY']:\n",
    "    print(f'Predicting {target}:')\n",
    "    res_combined = sc.actions.classify_samples_ncv(\n",
    "        table=final_ft_table,\n",
    "        metadata=q2.Metadata(df_meta).get_column(target),\n",
    "        cv=10,\n",
    "        random_state=seed,\n",
    "        n_jobs=4,\n",
    "        n_estimators=500,\n",
    "        missing_samples='ignore')\n",
    "    # save output artifact\n",
    "    res_combined.probabilities.save(os.path.join(results_path, f'predprob_{target}.qza'))\n",
    "\n",
    "    df_predprob = res_combined.probabilities.view(pd.DataFrame)\n",
    "    df_predprob.sort_index(inplace=True)\n",
    "\n",
    "    df_true = df_meta.loc[df_predprob.index, target].copy(deep=True)\n",
    "    df_true.sort_index(inplace=True)\n",
    "\n",
    "    # Plot ROC curve separately\n",
    "    roc = _generate_roc_plots(df_true, df_predprob,\n",
    "                              palette='sirocco')\n",
    "    path4roc = os.path.join(\n",
    "        results_path, f'draft_fig_u1{dic_file_flag[target]}.eps')\n",
    "    roc.savefig(path4roc,\n",
    "                bbox_inches='tight',\n",
    "                dpi=300, format='eps')\n",
    "    plt.show()\n"
   ]
  },
  {
   "cell_type": "markdown",
   "metadata": {
    "pycharm": {
     "name": "#%% md\n"
    }
   },
   "source": [
    "> It seems easier to predict an infant's age from its microbiome than its health status. However, this result is not very reliable as the individual studies differ in many co-variates which we did not account for here. "
   ]
  }
 ],
 "metadata": {
  "interpreter": {
   "hash": "e7ecf5a87fba352cb2cbad055aa7241b8430e81761403c6a226e0161adec6c6e"
  },
  "kernelspec": {
      "name": "py38",
      "display_name": "Python 3.8"
    },
  "language_info": {
   "codemirror_mode": {
    "name": "ipython",
    "version": 3
   },
   "file_extension": ".py",
   "mimetype": "text/x-python",
   "name": "python",
   "nbconvert_exporter": "python",
   "pygments_lexer": "ipython3",
   "version": "3.8.12"
  }
 },
 "nbformat": 4,
 "nbformat_minor": 2
}
